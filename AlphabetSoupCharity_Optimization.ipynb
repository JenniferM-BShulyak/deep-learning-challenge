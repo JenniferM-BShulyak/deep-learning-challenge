{
  "cells": [
    {
      "cell_type": "markdown",
      "metadata": {
        "id": "IbofhLW7pR8N"
      },
      "source": [
        "## Preprocessing"
      ]
    },
    {
      "cell_type": "code",
      "execution_count": 1,
      "metadata": {
        "colab": {
          "base_uri": "https://localhost:8080/",
          "height": 337
        },
        "id": "akn0YB-QpR8O",
        "outputId": "d3764daf-0817-42d6-a96b-f640ca2f6711"
      },
      "outputs": [
        {
          "output_type": "execute_result",
          "data": {
            "text/plain": [
              "        EIN                                      NAME APPLICATION_TYPE  \\\n",
              "0  10520599              BLUE KNIGHTS MOTORCYCLE CLUB              T10   \n",
              "1  10531628    AMERICAN CHESAPEAKE CLUB CHARITABLE TR               T3   \n",
              "2  10547893        ST CLOUD PROFESSIONAL FIREFIGHTERS               T5   \n",
              "3  10553066            SOUTHSIDE ATHLETIC ASSOCIATION               T3   \n",
              "4  10556103  GENETIC RESEARCH INSTITUTE OF THE DESERT               T3   \n",
              "\n",
              "        AFFILIATION CLASSIFICATION      USE_CASE  ORGANIZATION  STATUS  \\\n",
              "0       Independent          C1000    ProductDev   Association       1   \n",
              "1       Independent          C2000  Preservation  Co-operative       1   \n",
              "2  CompanySponsored          C3000    ProductDev   Association       1   \n",
              "3  CompanySponsored          C2000  Preservation         Trust       1   \n",
              "4       Independent          C1000     Heathcare         Trust       1   \n",
              "\n",
              "      INCOME_AMT SPECIAL_CONSIDERATIONS  ASK_AMT  IS_SUCCESSFUL  \n",
              "0              0                      N     5000              1  \n",
              "1         1-9999                      N   108590              1  \n",
              "2              0                      N     5000              0  \n",
              "3    10000-24999                      N     6692              1  \n",
              "4  100000-499999                      N   142590              1  "
            ],
            "text/html": [
              "\n",
              "  <div id=\"df-e7cbcd88-988a-45d9-a4dd-7dd992699a23\">\n",
              "    <div class=\"colab-df-container\">\n",
              "      <div>\n",
              "<style scoped>\n",
              "    .dataframe tbody tr th:only-of-type {\n",
              "        vertical-align: middle;\n",
              "    }\n",
              "\n",
              "    .dataframe tbody tr th {\n",
              "        vertical-align: top;\n",
              "    }\n",
              "\n",
              "    .dataframe thead th {\n",
              "        text-align: right;\n",
              "    }\n",
              "</style>\n",
              "<table border=\"1\" class=\"dataframe\">\n",
              "  <thead>\n",
              "    <tr style=\"text-align: right;\">\n",
              "      <th></th>\n",
              "      <th>EIN</th>\n",
              "      <th>NAME</th>\n",
              "      <th>APPLICATION_TYPE</th>\n",
              "      <th>AFFILIATION</th>\n",
              "      <th>CLASSIFICATION</th>\n",
              "      <th>USE_CASE</th>\n",
              "      <th>ORGANIZATION</th>\n",
              "      <th>STATUS</th>\n",
              "      <th>INCOME_AMT</th>\n",
              "      <th>SPECIAL_CONSIDERATIONS</th>\n",
              "      <th>ASK_AMT</th>\n",
              "      <th>IS_SUCCESSFUL</th>\n",
              "    </tr>\n",
              "  </thead>\n",
              "  <tbody>\n",
              "    <tr>\n",
              "      <th>0</th>\n",
              "      <td>10520599</td>\n",
              "      <td>BLUE KNIGHTS MOTORCYCLE CLUB</td>\n",
              "      <td>T10</td>\n",
              "      <td>Independent</td>\n",
              "      <td>C1000</td>\n",
              "      <td>ProductDev</td>\n",
              "      <td>Association</td>\n",
              "      <td>1</td>\n",
              "      <td>0</td>\n",
              "      <td>N</td>\n",
              "      <td>5000</td>\n",
              "      <td>1</td>\n",
              "    </tr>\n",
              "    <tr>\n",
              "      <th>1</th>\n",
              "      <td>10531628</td>\n",
              "      <td>AMERICAN CHESAPEAKE CLUB CHARITABLE TR</td>\n",
              "      <td>T3</td>\n",
              "      <td>Independent</td>\n",
              "      <td>C2000</td>\n",
              "      <td>Preservation</td>\n",
              "      <td>Co-operative</td>\n",
              "      <td>1</td>\n",
              "      <td>1-9999</td>\n",
              "      <td>N</td>\n",
              "      <td>108590</td>\n",
              "      <td>1</td>\n",
              "    </tr>\n",
              "    <tr>\n",
              "      <th>2</th>\n",
              "      <td>10547893</td>\n",
              "      <td>ST CLOUD PROFESSIONAL FIREFIGHTERS</td>\n",
              "      <td>T5</td>\n",
              "      <td>CompanySponsored</td>\n",
              "      <td>C3000</td>\n",
              "      <td>ProductDev</td>\n",
              "      <td>Association</td>\n",
              "      <td>1</td>\n",
              "      <td>0</td>\n",
              "      <td>N</td>\n",
              "      <td>5000</td>\n",
              "      <td>0</td>\n",
              "    </tr>\n",
              "    <tr>\n",
              "      <th>3</th>\n",
              "      <td>10553066</td>\n",
              "      <td>SOUTHSIDE ATHLETIC ASSOCIATION</td>\n",
              "      <td>T3</td>\n",
              "      <td>CompanySponsored</td>\n",
              "      <td>C2000</td>\n",
              "      <td>Preservation</td>\n",
              "      <td>Trust</td>\n",
              "      <td>1</td>\n",
              "      <td>10000-24999</td>\n",
              "      <td>N</td>\n",
              "      <td>6692</td>\n",
              "      <td>1</td>\n",
              "    </tr>\n",
              "    <tr>\n",
              "      <th>4</th>\n",
              "      <td>10556103</td>\n",
              "      <td>GENETIC RESEARCH INSTITUTE OF THE DESERT</td>\n",
              "      <td>T3</td>\n",
              "      <td>Independent</td>\n",
              "      <td>C1000</td>\n",
              "      <td>Heathcare</td>\n",
              "      <td>Trust</td>\n",
              "      <td>1</td>\n",
              "      <td>100000-499999</td>\n",
              "      <td>N</td>\n",
              "      <td>142590</td>\n",
              "      <td>1</td>\n",
              "    </tr>\n",
              "  </tbody>\n",
              "</table>\n",
              "</div>\n",
              "      <button class=\"colab-df-convert\" onclick=\"convertToInteractive('df-e7cbcd88-988a-45d9-a4dd-7dd992699a23')\"\n",
              "              title=\"Convert this dataframe to an interactive table.\"\n",
              "              style=\"display:none;\">\n",
              "        \n",
              "  <svg xmlns=\"http://www.w3.org/2000/svg\" height=\"24px\"viewBox=\"0 0 24 24\"\n",
              "       width=\"24px\">\n",
              "    <path d=\"M0 0h24v24H0V0z\" fill=\"none\"/>\n",
              "    <path d=\"M18.56 5.44l.94 2.06.94-2.06 2.06-.94-2.06-.94-.94-2.06-.94 2.06-2.06.94zm-11 1L8.5 8.5l.94-2.06 2.06-.94-2.06-.94L8.5 2.5l-.94 2.06-2.06.94zm10 10l.94 2.06.94-2.06 2.06-.94-2.06-.94-.94-2.06-.94 2.06-2.06.94z\"/><path d=\"M17.41 7.96l-1.37-1.37c-.4-.4-.92-.59-1.43-.59-.52 0-1.04.2-1.43.59L10.3 9.45l-7.72 7.72c-.78.78-.78 2.05 0 2.83L4 21.41c.39.39.9.59 1.41.59.51 0 1.02-.2 1.41-.59l7.78-7.78 2.81-2.81c.8-.78.8-2.07 0-2.86zM5.41 20L4 18.59l7.72-7.72 1.47 1.35L5.41 20z\"/>\n",
              "  </svg>\n",
              "      </button>\n",
              "      \n",
              "  <style>\n",
              "    .colab-df-container {\n",
              "      display:flex;\n",
              "      flex-wrap:wrap;\n",
              "      gap: 12px;\n",
              "    }\n",
              "\n",
              "    .colab-df-convert {\n",
              "      background-color: #E8F0FE;\n",
              "      border: none;\n",
              "      border-radius: 50%;\n",
              "      cursor: pointer;\n",
              "      display: none;\n",
              "      fill: #1967D2;\n",
              "      height: 32px;\n",
              "      padding: 0 0 0 0;\n",
              "      width: 32px;\n",
              "    }\n",
              "\n",
              "    .colab-df-convert:hover {\n",
              "      background-color: #E2EBFA;\n",
              "      box-shadow: 0px 1px 2px rgba(60, 64, 67, 0.3), 0px 1px 3px 1px rgba(60, 64, 67, 0.15);\n",
              "      fill: #174EA6;\n",
              "    }\n",
              "\n",
              "    [theme=dark] .colab-df-convert {\n",
              "      background-color: #3B4455;\n",
              "      fill: #D2E3FC;\n",
              "    }\n",
              "\n",
              "    [theme=dark] .colab-df-convert:hover {\n",
              "      background-color: #434B5C;\n",
              "      box-shadow: 0px 1px 3px 1px rgba(0, 0, 0, 0.15);\n",
              "      filter: drop-shadow(0px 1px 2px rgba(0, 0, 0, 0.3));\n",
              "      fill: #FFFFFF;\n",
              "    }\n",
              "  </style>\n",
              "\n",
              "      <script>\n",
              "        const buttonEl =\n",
              "          document.querySelector('#df-e7cbcd88-988a-45d9-a4dd-7dd992699a23 button.colab-df-convert');\n",
              "        buttonEl.style.display =\n",
              "          google.colab.kernel.accessAllowed ? 'block' : 'none';\n",
              "\n",
              "        async function convertToInteractive(key) {\n",
              "          const element = document.querySelector('#df-e7cbcd88-988a-45d9-a4dd-7dd992699a23');\n",
              "          const dataTable =\n",
              "            await google.colab.kernel.invokeFunction('convertToInteractive',\n",
              "                                                     [key], {});\n",
              "          if (!dataTable) return;\n",
              "\n",
              "          const docLinkHtml = 'Like what you see? Visit the ' +\n",
              "            '<a target=\"_blank\" href=https://colab.research.google.com/notebooks/data_table.ipynb>data table notebook</a>'\n",
              "            + ' to learn more about interactive tables.';\n",
              "          element.innerHTML = '';\n",
              "          dataTable['output_type'] = 'display_data';\n",
              "          await google.colab.output.renderOutput(dataTable, element);\n",
              "          const docLink = document.createElement('div');\n",
              "          docLink.innerHTML = docLinkHtml;\n",
              "          element.appendChild(docLink);\n",
              "        }\n",
              "      </script>\n",
              "    </div>\n",
              "  </div>\n",
              "  "
            ]
          },
          "metadata": {},
          "execution_count": 1
        }
      ],
      "source": [
        "# Import our dependencies\n",
        "from sklearn.model_selection import train_test_split\n",
        "from sklearn.preprocessing import StandardScaler\n",
        "import pandas as pd\n",
        "import tensorflow as tf\n",
        "\n",
        "#  Import and read the charity_data.csv.\n",
        "import pandas as pd \n",
        "application_df = pd.read_csv(\"Resources/charity_data.csv\")\n",
        "application_df.head()"
      ]
    },
    {
      "cell_type": "code",
      "execution_count": 2,
      "metadata": {
        "colab": {
          "base_uri": "https://localhost:8080/",
          "height": 285
        },
        "id": "6QFvYJoGpR8Q",
        "outputId": "dc64f338-2191-4d8d-eaa7-b06dd7aab607"
      },
      "outputs": [
        {
          "output_type": "execute_result",
          "data": {
            "text/plain": [
              "                                       NAME APPLICATION_TYPE  \\\n",
              "0              BLUE KNIGHTS MOTORCYCLE CLUB              T10   \n",
              "1    AMERICAN CHESAPEAKE CLUB CHARITABLE TR               T3   \n",
              "2        ST CLOUD PROFESSIONAL FIREFIGHTERS               T5   \n",
              "3            SOUTHSIDE ATHLETIC ASSOCIATION               T3   \n",
              "4  GENETIC RESEARCH INSTITUTE OF THE DESERT               T3   \n",
              "\n",
              "        AFFILIATION CLASSIFICATION      USE_CASE  ORGANIZATION     INCOME_AMT  \\\n",
              "0       Independent          C1000    ProductDev   Association              0   \n",
              "1       Independent          C2000  Preservation  Co-operative         1-9999   \n",
              "2  CompanySponsored          C3000    ProductDev   Association              0   \n",
              "3  CompanySponsored          C2000  Preservation         Trust    10000-24999   \n",
              "4       Independent          C1000     Heathcare         Trust  100000-499999   \n",
              "\n",
              "  SPECIAL_CONSIDERATIONS  ASK_AMT  IS_SUCCESSFUL  \n",
              "0                      N     5000              1  \n",
              "1                      N   108590              1  \n",
              "2                      N     5000              0  \n",
              "3                      N     6692              1  \n",
              "4                      N   142590              1  "
            ],
            "text/html": [
              "\n",
              "  <div id=\"df-41a117ac-f5cd-4b17-8e75-6f067b4bbcde\">\n",
              "    <div class=\"colab-df-container\">\n",
              "      <div>\n",
              "<style scoped>\n",
              "    .dataframe tbody tr th:only-of-type {\n",
              "        vertical-align: middle;\n",
              "    }\n",
              "\n",
              "    .dataframe tbody tr th {\n",
              "        vertical-align: top;\n",
              "    }\n",
              "\n",
              "    .dataframe thead th {\n",
              "        text-align: right;\n",
              "    }\n",
              "</style>\n",
              "<table border=\"1\" class=\"dataframe\">\n",
              "  <thead>\n",
              "    <tr style=\"text-align: right;\">\n",
              "      <th></th>\n",
              "      <th>NAME</th>\n",
              "      <th>APPLICATION_TYPE</th>\n",
              "      <th>AFFILIATION</th>\n",
              "      <th>CLASSIFICATION</th>\n",
              "      <th>USE_CASE</th>\n",
              "      <th>ORGANIZATION</th>\n",
              "      <th>INCOME_AMT</th>\n",
              "      <th>SPECIAL_CONSIDERATIONS</th>\n",
              "      <th>ASK_AMT</th>\n",
              "      <th>IS_SUCCESSFUL</th>\n",
              "    </tr>\n",
              "  </thead>\n",
              "  <tbody>\n",
              "    <tr>\n",
              "      <th>0</th>\n",
              "      <td>BLUE KNIGHTS MOTORCYCLE CLUB</td>\n",
              "      <td>T10</td>\n",
              "      <td>Independent</td>\n",
              "      <td>C1000</td>\n",
              "      <td>ProductDev</td>\n",
              "      <td>Association</td>\n",
              "      <td>0</td>\n",
              "      <td>N</td>\n",
              "      <td>5000</td>\n",
              "      <td>1</td>\n",
              "    </tr>\n",
              "    <tr>\n",
              "      <th>1</th>\n",
              "      <td>AMERICAN CHESAPEAKE CLUB CHARITABLE TR</td>\n",
              "      <td>T3</td>\n",
              "      <td>Independent</td>\n",
              "      <td>C2000</td>\n",
              "      <td>Preservation</td>\n",
              "      <td>Co-operative</td>\n",
              "      <td>1-9999</td>\n",
              "      <td>N</td>\n",
              "      <td>108590</td>\n",
              "      <td>1</td>\n",
              "    </tr>\n",
              "    <tr>\n",
              "      <th>2</th>\n",
              "      <td>ST CLOUD PROFESSIONAL FIREFIGHTERS</td>\n",
              "      <td>T5</td>\n",
              "      <td>CompanySponsored</td>\n",
              "      <td>C3000</td>\n",
              "      <td>ProductDev</td>\n",
              "      <td>Association</td>\n",
              "      <td>0</td>\n",
              "      <td>N</td>\n",
              "      <td>5000</td>\n",
              "      <td>0</td>\n",
              "    </tr>\n",
              "    <tr>\n",
              "      <th>3</th>\n",
              "      <td>SOUTHSIDE ATHLETIC ASSOCIATION</td>\n",
              "      <td>T3</td>\n",
              "      <td>CompanySponsored</td>\n",
              "      <td>C2000</td>\n",
              "      <td>Preservation</td>\n",
              "      <td>Trust</td>\n",
              "      <td>10000-24999</td>\n",
              "      <td>N</td>\n",
              "      <td>6692</td>\n",
              "      <td>1</td>\n",
              "    </tr>\n",
              "    <tr>\n",
              "      <th>4</th>\n",
              "      <td>GENETIC RESEARCH INSTITUTE OF THE DESERT</td>\n",
              "      <td>T3</td>\n",
              "      <td>Independent</td>\n",
              "      <td>C1000</td>\n",
              "      <td>Heathcare</td>\n",
              "      <td>Trust</td>\n",
              "      <td>100000-499999</td>\n",
              "      <td>N</td>\n",
              "      <td>142590</td>\n",
              "      <td>1</td>\n",
              "    </tr>\n",
              "  </tbody>\n",
              "</table>\n",
              "</div>\n",
              "      <button class=\"colab-df-convert\" onclick=\"convertToInteractive('df-41a117ac-f5cd-4b17-8e75-6f067b4bbcde')\"\n",
              "              title=\"Convert this dataframe to an interactive table.\"\n",
              "              style=\"display:none;\">\n",
              "        \n",
              "  <svg xmlns=\"http://www.w3.org/2000/svg\" height=\"24px\"viewBox=\"0 0 24 24\"\n",
              "       width=\"24px\">\n",
              "    <path d=\"M0 0h24v24H0V0z\" fill=\"none\"/>\n",
              "    <path d=\"M18.56 5.44l.94 2.06.94-2.06 2.06-.94-2.06-.94-.94-2.06-.94 2.06-2.06.94zm-11 1L8.5 8.5l.94-2.06 2.06-.94-2.06-.94L8.5 2.5l-.94 2.06-2.06.94zm10 10l.94 2.06.94-2.06 2.06-.94-2.06-.94-.94-2.06-.94 2.06-2.06.94z\"/><path d=\"M17.41 7.96l-1.37-1.37c-.4-.4-.92-.59-1.43-.59-.52 0-1.04.2-1.43.59L10.3 9.45l-7.72 7.72c-.78.78-.78 2.05 0 2.83L4 21.41c.39.39.9.59 1.41.59.51 0 1.02-.2 1.41-.59l7.78-7.78 2.81-2.81c.8-.78.8-2.07 0-2.86zM5.41 20L4 18.59l7.72-7.72 1.47 1.35L5.41 20z\"/>\n",
              "  </svg>\n",
              "      </button>\n",
              "      \n",
              "  <style>\n",
              "    .colab-df-container {\n",
              "      display:flex;\n",
              "      flex-wrap:wrap;\n",
              "      gap: 12px;\n",
              "    }\n",
              "\n",
              "    .colab-df-convert {\n",
              "      background-color: #E8F0FE;\n",
              "      border: none;\n",
              "      border-radius: 50%;\n",
              "      cursor: pointer;\n",
              "      display: none;\n",
              "      fill: #1967D2;\n",
              "      height: 32px;\n",
              "      padding: 0 0 0 0;\n",
              "      width: 32px;\n",
              "    }\n",
              "\n",
              "    .colab-df-convert:hover {\n",
              "      background-color: #E2EBFA;\n",
              "      box-shadow: 0px 1px 2px rgba(60, 64, 67, 0.3), 0px 1px 3px 1px rgba(60, 64, 67, 0.15);\n",
              "      fill: #174EA6;\n",
              "    }\n",
              "\n",
              "    [theme=dark] .colab-df-convert {\n",
              "      background-color: #3B4455;\n",
              "      fill: #D2E3FC;\n",
              "    }\n",
              "\n",
              "    [theme=dark] .colab-df-convert:hover {\n",
              "      background-color: #434B5C;\n",
              "      box-shadow: 0px 1px 3px 1px rgba(0, 0, 0, 0.15);\n",
              "      filter: drop-shadow(0px 1px 2px rgba(0, 0, 0, 0.3));\n",
              "      fill: #FFFFFF;\n",
              "    }\n",
              "  </style>\n",
              "\n",
              "      <script>\n",
              "        const buttonEl =\n",
              "          document.querySelector('#df-41a117ac-f5cd-4b17-8e75-6f067b4bbcde button.colab-df-convert');\n",
              "        buttonEl.style.display =\n",
              "          google.colab.kernel.accessAllowed ? 'block' : 'none';\n",
              "\n",
              "        async function convertToInteractive(key) {\n",
              "          const element = document.querySelector('#df-41a117ac-f5cd-4b17-8e75-6f067b4bbcde');\n",
              "          const dataTable =\n",
              "            await google.colab.kernel.invokeFunction('convertToInteractive',\n",
              "                                                     [key], {});\n",
              "          if (!dataTable) return;\n",
              "\n",
              "          const docLinkHtml = 'Like what you see? Visit the ' +\n",
              "            '<a target=\"_blank\" href=https://colab.research.google.com/notebooks/data_table.ipynb>data table notebook</a>'\n",
              "            + ' to learn more about interactive tables.';\n",
              "          element.innerHTML = '';\n",
              "          dataTable['output_type'] = 'display_data';\n",
              "          await google.colab.output.renderOutput(dataTable, element);\n",
              "          const docLink = document.createElement('div');\n",
              "          docLink.innerHTML = docLinkHtml;\n",
              "          element.appendChild(docLink);\n",
              "        }\n",
              "      </script>\n",
              "    </div>\n",
              "  </div>\n",
              "  "
            ]
          },
          "metadata": {},
          "execution_count": 2
        }
      ],
      "source": [
        "# Drop the non-beneficial ID columns, 'EIN' and 'NAME'.\n",
        "application_df.drop(columns=[\"EIN\", \"STATUS\"], inplace=True)\n",
        "application_df.head()"
      ]
    },
    {
      "cell_type": "code",
      "execution_count": 3,
      "metadata": {
        "colab": {
          "base_uri": "https://localhost:8080/"
        },
        "id": "5T46BkEgpR8Q",
        "outputId": "036e850c-127b-46ac-c52e-811291efd6b7"
      },
      "outputs": [
        {
          "output_type": "execute_result",
          "data": {
            "text/plain": [
              "NAME                      object\n",
              "APPLICATION_TYPE          object\n",
              "AFFILIATION               object\n",
              "CLASSIFICATION            object\n",
              "USE_CASE                  object\n",
              "ORGANIZATION              object\n",
              "INCOME_AMT                object\n",
              "SPECIAL_CONSIDERATIONS    object\n",
              "ASK_AMT                    int64\n",
              "IS_SUCCESSFUL              int64\n",
              "dtype: object"
            ]
          },
          "metadata": {},
          "execution_count": 3
        }
      ],
      "source": [
        "# Determine the number of unique values in each column.\n",
        "application_df.dtypes"
      ]
    },
    {
      "cell_type": "code",
      "source": [
        "application_df.nunique()"
      ],
      "metadata": {
        "colab": {
          "base_uri": "https://localhost:8080/"
        },
        "id": "dLDLfu_xIV2f",
        "outputId": "52a2526f-9e04-47af-e5dc-14555016d42c"
      },
      "execution_count": 4,
      "outputs": [
        {
          "output_type": "execute_result",
          "data": {
            "text/plain": [
              "NAME                      19568\n",
              "APPLICATION_TYPE             17\n",
              "AFFILIATION                   6\n",
              "CLASSIFICATION               71\n",
              "USE_CASE                      5\n",
              "ORGANIZATION                  4\n",
              "INCOME_AMT                    9\n",
              "SPECIAL_CONSIDERATIONS        2\n",
              "ASK_AMT                    8747\n",
              "IS_SUCCESSFUL                 2\n",
              "dtype: int64"
            ]
          },
          "metadata": {},
          "execution_count": 4
        }
      ]
    },
    {
      "cell_type": "code",
      "source": [
        "application_df[\"NAME\"].value_counts()"
      ],
      "metadata": {
        "colab": {
          "base_uri": "https://localhost:8080/"
        },
        "id": "c0FE__q6IscE",
        "outputId": "c3fded78-a428-4059-c526-ac1c375423a4"
      },
      "execution_count": 5,
      "outputs": [
        {
          "output_type": "execute_result",
          "data": {
            "text/plain": [
              "PARENT BOOSTER USA INC                                                  1260\n",
              "TOPS CLUB INC                                                            765\n",
              "UNITED STATES BOWLING CONGRESS INC                                       700\n",
              "WASHINGTON STATE UNIVERSITY                                              492\n",
              "AMATEUR ATHLETIC UNION OF THE UNITED STATES INC                          408\n",
              "                                                                        ... \n",
              "ST LOUIS SLAM WOMENS FOOTBALL                                              1\n",
              "AIESEC ALUMNI IBEROAMERICA CORP                                            1\n",
              "WEALLBLEEDRED ORG INC                                                      1\n",
              "AMERICAN SOCIETY FOR STANDARDS IN MEDIUMSHIP & PSYCHICAL INVESTIGATI       1\n",
              "WATERHOUSE CHARITABLE TR                                                   1\n",
              "Name: NAME, Length: 19568, dtype: int64"
            ]
          },
          "metadata": {},
          "execution_count": 5
        }
      ]
    },
    {
      "cell_type": "code",
      "source": [
        "name_counts = application_df[\"NAME\"].value_counts()\n",
        "name_counts[name_counts>100]"
      ],
      "metadata": {
        "colab": {
          "base_uri": "https://localhost:8080/"
        },
        "id": "sDTiyhWSI90A",
        "outputId": "7438cbeb-17ed-4631-869b-2c5f0be22c08"
      },
      "execution_count": 8,
      "outputs": [
        {
          "output_type": "execute_result",
          "data": {
            "text/plain": [
              "PARENT BOOSTER USA INC                                                1260\n",
              "TOPS CLUB INC                                                          765\n",
              "UNITED STATES BOWLING CONGRESS INC                                     700\n",
              "WASHINGTON STATE UNIVERSITY                                            492\n",
              "AMATEUR ATHLETIC UNION OF THE UNITED STATES INC                        408\n",
              "PTA TEXAS CONGRESS                                                     368\n",
              "SOROPTIMIST INTERNATIONAL OF THE AMERICAS INC                          331\n",
              "ALPHA PHI SIGMA                                                        313\n",
              "TOASTMASTERS INTERNATIONAL                                             293\n",
              "MOST WORSHIPFUL STRINGER FREE AND ACCEPTED MASONS                      287\n",
              "LITTLE LEAGUE BASEBALL INC                                             277\n",
              "INTERNATIONAL ASSOCIATION OF LIONS CLUBS                               266\n",
              "MOMS CLUB                                                              210\n",
              "INTERNATIONAL ASSOCIATION OF SHEET METAL AIR RAIL & TRANSPORTATION     206\n",
              "AMERICAN ASSOCIATION OF UNIVERSITY WOMEN                               197\n",
              "FARMERS EDUCATIONAL AND COOPERATIVE UNION OF AMERICA                   166\n",
              "KNIGHTS OF COLUMBUS                                                    158\n",
              "HABITAT FOR HUMANITY INTERNATIONAL INC                                 154\n",
              "TENNESSEE ORDER OF THE EASTERN STAR                                    151\n",
              "VETERANS OF FOREIGN WARS OF THE UNITED STATES AUXILIARY                144\n",
              "PTA UTAH CONGRESS                                                      140\n",
              "THE UNITED STATES PONY CLUBS INC                                       136\n",
              "CIVITAN INTERNATIONAL                                                  131\n",
              "SIGMA BETA DELTA INC                                                   127\n",
              "HONOR SOCIETY OF PHI KAPPA PHI                                         107\n",
              "MONTANA 4-H FOUNDATION INC                                             107\n",
              "WASHINGTON STATE GRANGE                                                106\n",
              "UNIVERSITY OF WYOMING                                                  105\n",
              "DEMOLAY INTERNATIONAL                                                  104\n",
              "SERTOMA INC                                                            103\n",
              "Name: NAME, dtype: int64"
            ]
          },
          "metadata": {},
          "execution_count": 8
        }
      ]
    },
    {
      "cell_type": "code",
      "source": [
        "# Turn name value counts into dictionary\n",
        "# Choose a cutoff value and create a list of name types to be replaced\n",
        "# Use list comprehension to identify name with counts of less than 200\n",
        "# use the variable name `name_types_to_replace`\n",
        "name_counts_dict = name_counts.to_dict()\n",
        "name_types_to_replace = [key for key,value in name_counts_dict.items() if int(value)<100]\n"
      ],
      "metadata": {
        "id": "vgYFjs5PJnDk"
      },
      "execution_count": 9,
      "outputs": []
    },
    {
      "cell_type": "code",
      "source": [
        "# Replace in dataframe\n",
        "for xx in name_types_to_replace:\n",
        "    application_df['NAME'] = application_df['NAME'].replace(xx,\"Other\")\n",
        "    \n",
        "# Check to make sure binning was successful\n",
        "application_df['NAME'].value_counts()"
      ],
      "metadata": {
        "colab": {
          "base_uri": "https://localhost:8080/"
        },
        "id": "2w4AaVKAJ9cH",
        "outputId": "dc5c93f8-6b4c-4111-a5dc-eab6ea3041ee"
      },
      "execution_count": 10,
      "outputs": [
        {
          "output_type": "execute_result",
          "data": {
            "text/plain": [
              "Other                                                                 25987\n",
              "PARENT BOOSTER USA INC                                                 1260\n",
              "TOPS CLUB INC                                                           765\n",
              "UNITED STATES BOWLING CONGRESS INC                                      700\n",
              "WASHINGTON STATE UNIVERSITY                                             492\n",
              "AMATEUR ATHLETIC UNION OF THE UNITED STATES INC                         408\n",
              "PTA TEXAS CONGRESS                                                      368\n",
              "SOROPTIMIST INTERNATIONAL OF THE AMERICAS INC                           331\n",
              "ALPHA PHI SIGMA                                                         313\n",
              "TOASTMASTERS INTERNATIONAL                                              293\n",
              "MOST WORSHIPFUL STRINGER FREE AND ACCEPTED MASONS                       287\n",
              "LITTLE LEAGUE BASEBALL INC                                              277\n",
              "INTERNATIONAL ASSOCIATION OF LIONS CLUBS                                266\n",
              "MOMS CLUB                                                               210\n",
              "INTERNATIONAL ASSOCIATION OF SHEET METAL AIR RAIL & TRANSPORTATION      206\n",
              "AMERICAN ASSOCIATION OF UNIVERSITY WOMEN                                197\n",
              "FARMERS EDUCATIONAL AND COOPERATIVE UNION OF AMERICA                    166\n",
              "KNIGHTS OF COLUMBUS                                                     158\n",
              "HABITAT FOR HUMANITY INTERNATIONAL INC                                  154\n",
              "TENNESSEE ORDER OF THE EASTERN STAR                                     151\n",
              "VETERANS OF FOREIGN WARS OF THE UNITED STATES AUXILIARY                 144\n",
              "PTA UTAH CONGRESS                                                       140\n",
              "THE UNITED STATES PONY CLUBS INC                                        136\n",
              "CIVITAN INTERNATIONAL                                                   131\n",
              "SIGMA BETA DELTA INC                                                    127\n",
              "HONOR SOCIETY OF PHI KAPPA PHI                                          107\n",
              "MONTANA 4-H FOUNDATION INC                                              107\n",
              "WASHINGTON STATE GRANGE                                                 106\n",
              "UNIVERSITY OF WYOMING                                                   105\n",
              "DEMOLAY INTERNATIONAL                                                   104\n",
              "SERTOMA INC                                                             103\n",
              "Name: NAME, dtype: int64"
            ]
          },
          "metadata": {},
          "execution_count": 10
        }
      ]
    },
    {
      "cell_type": "code",
      "execution_count": 11,
      "metadata": {
        "colab": {
          "base_uri": "https://localhost:8080/"
        },
        "id": "FI7vdTRypR8Q",
        "outputId": "f3bae98f-b2bb-4755-82c4-54884b87b418"
      },
      "outputs": [
        {
          "output_type": "execute_result",
          "data": {
            "text/plain": [
              "T3     27037\n",
              "T4      1542\n",
              "T6      1216\n",
              "T5      1173\n",
              "T19     1065\n",
              "T8       737\n",
              "T7       725\n",
              "T10      528\n",
              "T9       156\n",
              "T13       66\n",
              "T12       27\n",
              "T2        16\n",
              "T25        3\n",
              "T14        3\n",
              "T29        2\n",
              "T15        2\n",
              "T17        1\n",
              "Name: APPLICATION_TYPE, dtype: int64"
            ]
          },
          "metadata": {},
          "execution_count": 11
        }
      ],
      "source": [
        "# Look at APPLICATION_TYPE value counts for binning\n",
        "# Save as series\n",
        "applications_counts = application_df[\"APPLICATION_TYPE\"].value_counts()\n",
        "applications_counts"
      ]
    },
    {
      "cell_type": "code",
      "execution_count": 12,
      "metadata": {
        "colab": {
          "base_uri": "https://localhost:8080/"
        },
        "id": "R5dA1tZhpR8R",
        "outputId": "5bb4d10f-b0a9-4811-b597-f419fe909df9"
      },
      "outputs": [
        {
          "output_type": "execute_result",
          "data": {
            "text/plain": [
              "['T10', 'T9', 'T13', 'T12', 'T2', 'T25', 'T14', 'T29', 'T15', 'T17']"
            ]
          },
          "metadata": {},
          "execution_count": 12
        }
      ],
      "source": [
        "# Turn application value counts into dictionary\n",
        "# Choose a cutoff value and create a list of application types to be replaced\n",
        "# Use list comprehension to identify applications with counts of less than 200\n",
        "# use the variable name `application_types_to_replace`\n",
        "application_counts_dict = applications_counts.to_dict()\n",
        "application_types_to_replace = [key for key,value in application_counts_dict.items() if int(value)<700]\n",
        "application_types_to_replace"
      ]
    },
    {
      "cell_type": "code",
      "execution_count": 13,
      "metadata": {
        "colab": {
          "base_uri": "https://localhost:8080/"
        },
        "id": "KEz24CdDpR8R",
        "outputId": "e67354a7-a7bc-4f35-9f99-1b12ef230195"
      },
      "outputs": [
        {
          "output_type": "execute_result",
          "data": {
            "text/plain": [
              "T3       27037\n",
              "T4        1542\n",
              "T6        1216\n",
              "T5        1173\n",
              "T19       1065\n",
              "Other      804\n",
              "T8         737\n",
              "T7         725\n",
              "Name: APPLICATION_TYPE, dtype: int64"
            ]
          },
          "metadata": {},
          "execution_count": 13
        }
      ],
      "source": [
        "# Replace in dataframe\n",
        "for app in application_types_to_replace:\n",
        "    application_df['APPLICATION_TYPE'] = application_df['APPLICATION_TYPE'].replace(app,\"Other\")\n",
        "\n",
        "# Check to make sure binning was successful\n",
        "application_df['APPLICATION_TYPE'].value_counts()"
      ]
    },
    {
      "cell_type": "code",
      "execution_count": 14,
      "metadata": {
        "colab": {
          "base_uri": "https://localhost:8080/"
        },
        "id": "9nJkLl8apR8R",
        "outputId": "3e8f4cd8-c584-4e70-e4d4-e1ca5d4d127d"
      },
      "outputs": [
        {
          "output_type": "execute_result",
          "data": {
            "text/plain": [
              "C1000    17326\n",
              "C2000     6074\n",
              "C1200     4837\n",
              "C3000     1918\n",
              "C2100     1883\n",
              "         ...  \n",
              "C4120        1\n",
              "C8210        1\n",
              "C2561        1\n",
              "C4500        1\n",
              "C2150        1\n",
              "Name: CLASSIFICATION, Length: 71, dtype: int64"
            ]
          },
          "metadata": {},
          "execution_count": 14
        }
      ],
      "source": [
        "# Look at CLASSIFICATION value counts for binning\n",
        "classification_counts = application_df[\"CLASSIFICATION\"].value_counts()\n",
        "classification_counts"
      ]
    },
    {
      "cell_type": "code",
      "execution_count": 15,
      "metadata": {
        "colab": {
          "base_uri": "https://localhost:8080/"
        },
        "id": "eJZ6yUKypR8R",
        "outputId": "34d17dc1-ed74-4d31-bda9-bbcd2ec28993"
      },
      "outputs": [
        {
          "output_type": "execute_result",
          "data": {
            "text/plain": [
              "C1000    17326\n",
              "C2000     6074\n",
              "C1200     4837\n",
              "C3000     1918\n",
              "C2100     1883\n",
              "C7000      777\n",
              "C1700      287\n",
              "C4000      194\n",
              "C5000      116\n",
              "C1270      114\n",
              "C2700      104\n",
              "C2800       95\n",
              "C7100       75\n",
              "C1300       58\n",
              "C1280       50\n",
              "C1230       36\n",
              "C1400       34\n",
              "C7200       32\n",
              "C2300       32\n",
              "C1240       30\n",
              "C8000       20\n",
              "C7120       18\n",
              "C1500       16\n",
              "C1800       15\n",
              "C6000       15\n",
              "C1250       14\n",
              "C8200       11\n",
              "C1238       10\n",
              "C1278       10\n",
              "C1235        9\n",
              "C1237        9\n",
              "C7210        7\n",
              "C2400        6\n",
              "C1720        6\n",
              "C4100        6\n",
              "C1257        5\n",
              "C1600        5\n",
              "C1260        3\n",
              "C2710        3\n",
              "C0           3\n",
              "C3200        2\n",
              "C1234        2\n",
              "C1246        2\n",
              "C1267        2\n",
              "C1256        2\n",
              "Name: CLASSIFICATION, dtype: int64"
            ]
          },
          "metadata": {},
          "execution_count": 15
        }
      ],
      "source": [
        "# You may find it helpful to look at CLASSIFICATION value counts >1\n",
        "classification_counts[classification_counts > 1]"
      ]
    },
    {
      "cell_type": "code",
      "execution_count": 16,
      "metadata": {
        "id": "hZaFxd3KpR8S"
      },
      "outputs": [],
      "source": [
        "# Made classification_counts into a dictionary to use to weed out classifications to be replaced\n",
        "classification_counts_dict = classification_counts.to_dict()\n",
        "\n",
        "# Choose a cutoff value and create a list of classifications to be replaced\n",
        "# Use list comprehension to weed out classifications with counts less than 1000\n",
        "# use the variable name `classifications_to_replace`\n",
        "classifications_to_replace = [key for key,value in classification_counts_dict.items() if int(value) < 1000]"
      ]
    },
    {
      "cell_type": "code",
      "execution_count": 17,
      "metadata": {
        "colab": {
          "base_uri": "https://localhost:8080/"
        },
        "id": "QuelaZl6pR8S",
        "outputId": "d0eca6fc-02ea-4d4c-c881-f87709aa66e7"
      },
      "outputs": [
        {
          "output_type": "execute_result",
          "data": {
            "text/plain": [
              "C1000    17326\n",
              "C2000     6074\n",
              "C1200     4837\n",
              "Other     2261\n",
              "C3000     1918\n",
              "C2100     1883\n",
              "Name: CLASSIFICATION, dtype: int64"
            ]
          },
          "metadata": {},
          "execution_count": 17
        }
      ],
      "source": [
        "# Replace in dataframe\n",
        "for cls in classifications_to_replace:\n",
        "    application_df['CLASSIFICATION'] = application_df['CLASSIFICATION'].replace(cls,\"Other\")\n",
        "    \n",
        "# Check to make sure binning was successful\n",
        "application_df['CLASSIFICATION'].value_counts()"
      ]
    },
    {
      "cell_type": "code",
      "source": [
        "import math\n",
        "application_df[\"ASK_AMT\"] = application_df[\"ASK_AMT\"].map(lambda x: math.log(x))"
      ],
      "metadata": {
        "id": "MaemxhIsdYDR"
      },
      "execution_count": 18,
      "outputs": []
    },
    {
      "cell_type": "code",
      "source": [
        "import matplotlib.pyplot as plt\n",
        "# Checking for Outliers\n",
        "ask_amount = list(application_df[\"ASK_AMT\"])\n",
        "fig1, ax1 = plt.subplots()\n",
        "\n",
        "ax1.boxplot(ask_amount)\n",
        "plt.show()"
      ],
      "metadata": {
        "colab": {
          "base_uri": "https://localhost:8080/",
          "height": 430
        },
        "id": "RBctsCBadB9M",
        "outputId": "122c6de7-aba7-4310-f3f9-f409aaa8c131"
      },
      "execution_count": 19,
      "outputs": [
        {
          "output_type": "display_data",
          "data": {
            "text/plain": [
              "<Figure size 640x480 with 1 Axes>"
            ],
            "image/png": "[encoded data removed]"
          },
          "metadata": {}
        }
      ]
    },
    {
      "cell_type": "code",
      "source": [
        "import numpy as np\n",
        "# Determine which data points are outside of the 1.5*IQR range\n",
        "quartiles = np.quantile(ask_amount,[.25,.75])\n",
        "iqr = quartiles[1]-quartiles[0]\n",
        "lower_bound = quartiles[0]-(1.5*iqr)\n",
        "upper_bound = quartiles[1]+(1.5*iqr)\n",
        "\n",
        "potential_outliers = [time for time in ask_amount if time < lower_bound or time > upper_bound]\n",
        "len(potential_outliers)"
      ],
      "metadata": {
        "colab": {
          "base_uri": "https://localhost:8080/"
        },
        "id": "wHuxtW2vdugn",
        "outputId": "1b451b3d-c0f8-46f3-acca-b32d70392074"
      },
      "execution_count": 20,
      "outputs": [
        {
          "output_type": "execute_result",
          "data": {
            "text/plain": [
              "7975"
            ]
          },
          "metadata": {},
          "execution_count": 20
        }
      ]
    },
    {
      "cell_type": "code",
      "source": [
        "# Look at INCOME_AMT value counts for binning\n",
        "income_counts = application_df[\"INCOME_AMT\"].value_counts()\n",
        "income_counts"
      ],
      "metadata": {
        "colab": {
          "base_uri": "https://localhost:8080/"
        },
        "id": "e0e2j6LchNBu",
        "outputId": "68802230-dfc7-4d1b-db5d-0ea2f2c4c6d1"
      },
      "execution_count": 21,
      "outputs": [
        {
          "output_type": "execute_result",
          "data": {
            "text/plain": [
              "0                24388\n",
              "25000-99999       3747\n",
              "100000-499999     3374\n",
              "1M-5M              955\n",
              "1-9999             728\n",
              "10000-24999        543\n",
              "10M-50M            240\n",
              "5M-10M             185\n",
              "50M+               139\n",
              "Name: INCOME_AMT, dtype: int64"
            ]
          },
          "metadata": {},
          "execution_count": 21
        }
      ]
    },
    {
      "cell_type": "code",
      "source": [
        "# Made income_counts into a dictionary to use to weed out incomes to be replaced\n",
        "income_counts_dict = income_counts.to_dict()\n",
        "\n",
        "# Choose a cutoff value and create a list of incomes to be replaced\n",
        "# Use list comprehension to weed out incomes with counts less than 1000\n",
        "# use the variable name `incomes_to_replace`\n",
        "incomes_to_replace = [key for key,value in income_counts_dict.items() if int(value) < 500]\n",
        "incomes_to_replace"
      ],
      "metadata": {
        "colab": {
          "base_uri": "https://localhost:8080/"
        },
        "id": "6_u9NzMoheYj",
        "outputId": "3e51c643-eecc-41d3-d3f4-50ccfb940f7f"
      },
      "execution_count": 22,
      "outputs": [
        {
          "output_type": "execute_result",
          "data": {
            "text/plain": [
              "['10M-50M', '5M-10M', '50M+']"
            ]
          },
          "metadata": {},
          "execution_count": 22
        }
      ]
    },
    {
      "cell_type": "code",
      "source": [
        "# Replace in dataframe\n",
        "for cls in incomes_to_replace:\n",
        "    application_df['INCOME_AMT'] = application_df['INCOME_AMT'].replace(cls,\"Other\")\n",
        "    \n",
        "# Check to make sure binning was successful\n",
        "application_df['INCOME_AMT'].value_counts()"
      ],
      "metadata": {
        "colab": {
          "base_uri": "https://localhost:8080/"
        },
        "id": "9O8jV_Tfh4kx",
        "outputId": "d83a697b-9ad9-4ebb-bf4c-419410978e4f"
      },
      "execution_count": 23,
      "outputs": [
        {
          "output_type": "execute_result",
          "data": {
            "text/plain": [
              "0                24388\n",
              "25000-99999       3747\n",
              "100000-499999     3374\n",
              "1M-5M              955\n",
              "1-9999             728\n",
              "Other              564\n",
              "10000-24999        543\n",
              "Name: INCOME_AMT, dtype: int64"
            ]
          },
          "metadata": {},
          "execution_count": 23
        }
      ]
    },
    {
      "cell_type": "markdown",
      "metadata": {
        "id": "lgqoB3oJpR8S"
      },
      "source": [
        "### Convert Categorical data to numerical with pd.get_dummies"
      ]
    },
    {
      "cell_type": "code",
      "execution_count": 24,
      "metadata": {
        "colab": {
          "base_uri": "https://localhost:8080/",
          "height": 206
        },
        "id": "H_ZzGchIpR8T",
        "outputId": "0c3641d4-b688-4366-c62c-828c7afd6565"
      },
      "outputs": [
        {
          "output_type": "execute_result",
          "data": {
            "text/plain": [
              "    NAME APPLICATION_TYPE       AFFILIATION CLASSIFICATION      USE_CASE  \\\n",
              "0  Other            Other       Independent          C1000    ProductDev   \n",
              "1  Other               T3       Independent          C2000  Preservation   \n",
              "2  Other               T5  CompanySponsored          C3000    ProductDev   \n",
              "3  Other               T3  CompanySponsored          C2000  Preservation   \n",
              "4  Other               T3       Independent          C1000     Heathcare   \n",
              "\n",
              "   ORGANIZATION     INCOME_AMT SPECIAL_CONSIDERATIONS    ASK_AMT  \\\n",
              "0   Association              0                      N   8.517193   \n",
              "1  Co-operative         1-9999                      N  11.595335   \n",
              "2   Association              0                      N   8.517193   \n",
              "3         Trust    10000-24999                      N   8.808668   \n",
              "4         Trust  100000-499999                      N  11.867729   \n",
              "\n",
              "   IS_SUCCESSFUL  \n",
              "0              1  \n",
              "1              1  \n",
              "2              0  \n",
              "3              1  \n",
              "4              1  "
            ],
            "text/html": [
              "\n",
              "  <div id=\"df-e6e7509e-1864-4f8a-8936-a10dc1888876\">\n",
              "    <div class=\"colab-df-container\">\n",
              "      <div>\n",
              "<style scoped>\n",
              "    .dataframe tbody tr th:only-of-type {\n",
              "        vertical-align: middle;\n",
              "    }\n",
              "\n",
              "    .dataframe tbody tr th {\n",
              "        vertical-align: top;\n",
              "    }\n",
              "\n",
              "    .dataframe thead th {\n",
              "        text-align: right;\n",
              "    }\n",
              "</style>\n",
              "<table border=\"1\" class=\"dataframe\">\n",
              "  <thead>\n",
              "    <tr style=\"text-align: right;\">\n",
              "      <th></th>\n",
              "      <th>NAME</th>\n",
              "      <th>APPLICATION_TYPE</th>\n",
              "      <th>AFFILIATION</th>\n",
              "      <th>CLASSIFICATION</th>\n",
              "      <th>USE_CASE</th>\n",
              "      <th>ORGANIZATION</th>\n",
              "      <th>INCOME_AMT</th>\n",
              "      <th>SPECIAL_CONSIDERATIONS</th>\n",
              "      <th>ASK_AMT</th>\n",
              "      <th>IS_SUCCESSFUL</th>\n",
              "    </tr>\n",
              "  </thead>\n",
              "  <tbody>\n",
              "    <tr>\n",
              "      <th>0</th>\n",
              "      <td>Other</td>\n",
              "      <td>Other</td>\n",
              "      <td>Independent</td>\n",
              "      <td>C1000</td>\n",
              "      <td>ProductDev</td>\n",
              "      <td>Association</td>\n",
              "      <td>0</td>\n",
              "      <td>N</td>\n",
              "      <td>8.517193</td>\n",
              "      <td>1</td>\n",
              "    </tr>\n",
              "    <tr>\n",
              "      <th>1</th>\n",
              "      <td>Other</td>\n",
              "      <td>T3</td>\n",
              "      <td>Independent</td>\n",
              "      <td>C2000</td>\n",
              "      <td>Preservation</td>\n",
              "      <td>Co-operative</td>\n",
              "      <td>1-9999</td>\n",
              "      <td>N</td>\n",
              "      <td>11.595335</td>\n",
              "      <td>1</td>\n",
              "    </tr>\n",
              "    <tr>\n",
              "      <th>2</th>\n",
              "      <td>Other</td>\n",
              "      <td>T5</td>\n",
              "      <td>CompanySponsored</td>\n",
              "      <td>C3000</td>\n",
              "      <td>ProductDev</td>\n",
              "      <td>Association</td>\n",
              "      <td>0</td>\n",
              "      <td>N</td>\n",
              "      <td>8.517193</td>\n",
              "      <td>0</td>\n",
              "    </tr>\n",
              "    <tr>\n",
              "      <th>3</th>\n",
              "      <td>Other</td>\n",
              "      <td>T3</td>\n",
              "      <td>CompanySponsored</td>\n",
              "      <td>C2000</td>\n",
              "      <td>Preservation</td>\n",
              "      <td>Trust</td>\n",
              "      <td>10000-24999</td>\n",
              "      <td>N</td>\n",
              "      <td>8.808668</td>\n",
              "      <td>1</td>\n",
              "    </tr>\n",
              "    <tr>\n",
              "      <th>4</th>\n",
              "      <td>Other</td>\n",
              "      <td>T3</td>\n",
              "      <td>Independent</td>\n",
              "      <td>C1000</td>\n",
              "      <td>Heathcare</td>\n",
              "      <td>Trust</td>\n",
              "      <td>100000-499999</td>\n",
              "      <td>N</td>\n",
              "      <td>11.867729</td>\n",
              "      <td>1</td>\n",
              "    </tr>\n",
              "  </tbody>\n",
              "</table>\n",
              "</div>\n",
              "      <button class=\"colab-df-convert\" onclick=\"convertToInteractive('df-e6e7509e-1864-4f8a-8936-a10dc1888876')\"\n",
              "              title=\"Convert this dataframe to an interactive table.\"\n",
              "              style=\"display:none;\">\n",
              "        \n",
              "  <svg xmlns=\"http://www.w3.org/2000/svg\" height=\"24px\"viewBox=\"0 0 24 24\"\n",
              "       width=\"24px\">\n",
              "    <path d=\"M0 0h24v24H0V0z\" fill=\"none\"/>\n",
              "    <path d=\"M18.56 5.44l.94 2.06.94-2.06 2.06-.94-2.06-.94-.94-2.06-.94 2.06-2.06.94zm-11 1L8.5 8.5l.94-2.06 2.06-.94-2.06-.94L8.5 2.5l-.94 2.06-2.06.94zm10 10l.94 2.06.94-2.06 2.06-.94-2.06-.94-.94-2.06-.94 2.06-2.06.94z\"/><path d=\"M17.41 7.96l-1.37-1.37c-.4-.4-.92-.59-1.43-.59-.52 0-1.04.2-1.43.59L10.3 9.45l-7.72 7.72c-.78.78-.78 2.05 0 2.83L4 21.41c.39.39.9.59 1.41.59.51 0 1.02-.2 1.41-.59l7.78-7.78 2.81-2.81c.8-.78.8-2.07 0-2.86zM5.41 20L4 18.59l7.72-7.72 1.47 1.35L5.41 20z\"/>\n",
              "  </svg>\n",
              "      </button>\n",
              "      \n",
              "  <style>\n",
              "    .colab-df-container {\n",
              "      display:flex;\n",
              "      flex-wrap:wrap;\n",
              "      gap: 12px;\n",
              "    }\n",
              "\n",
              "    .colab-df-convert {\n",
              "      background-color: #E8F0FE;\n",
              "      border: none;\n",
              "      border-radius: 50%;\n",
              "      cursor: pointer;\n",
              "      display: none;\n",
              "      fill: #1967D2;\n",
              "      height: 32px;\n",
              "      padding: 0 0 0 0;\n",
              "      width: 32px;\n",
              "    }\n",
              "\n",
              "    .colab-df-convert:hover {\n",
              "      background-color: #E2EBFA;\n",
              "      box-shadow: 0px 1px 2px rgba(60, 64, 67, 0.3), 0px 1px 3px 1px rgba(60, 64, 67, 0.15);\n",
              "      fill: #174EA6;\n",
              "    }\n",
              "\n",
              "    [theme=dark] .colab-df-convert {\n",
              "      background-color: #3B4455;\n",
              "      fill: #D2E3FC;\n",
              "    }\n",
              "\n",
              "    [theme=dark] .colab-df-convert:hover {\n",
              "      background-color: #434B5C;\n",
              "      box-shadow: 0px 1px 3px 1px rgba(0, 0, 0, 0.15);\n",
              "      filter: drop-shadow(0px 1px 2px rgba(0, 0, 0, 0.3));\n",
              "      fill: #FFFFFF;\n",
              "    }\n",
              "  </style>\n",
              "\n",
              "      <script>\n",
              "        const buttonEl =\n",
              "          document.querySelector('#df-e6e7509e-1864-4f8a-8936-a10dc1888876 button.colab-df-convert');\n",
              "        buttonEl.style.display =\n",
              "          google.colab.kernel.accessAllowed ? 'block' : 'none';\n",
              "\n",
              "        async function convertToInteractive(key) {\n",
              "          const element = document.querySelector('#df-e6e7509e-1864-4f8a-8936-a10dc1888876');\n",
              "          const dataTable =\n",
              "            await google.colab.kernel.invokeFunction('convertToInteractive',\n",
              "                                                     [key], {});\n",
              "          if (!dataTable) return;\n",
              "\n",
              "          const docLinkHtml = 'Like what you see? Visit the ' +\n",
              "            '<a target=\"_blank\" href=https://colab.research.google.com/notebooks/data_table.ipynb>data table notebook</a>'\n",
              "            + ' to learn more about interactive tables.';\n",
              "          element.innerHTML = '';\n",
              "          dataTable['output_type'] = 'display_data';\n",
              "          await google.colab.output.renderOutput(dataTable, element);\n",
              "          const docLink = document.createElement('div');\n",
              "          docLink.innerHTML = docLinkHtml;\n",
              "          element.appendChild(docLink);\n",
              "        }\n",
              "      </script>\n",
              "    </div>\n",
              "  </div>\n",
              "  "
            ]
          },
          "metadata": {},
          "execution_count": 24
        }
      ],
      "source": [
        "# Print out df again \n",
        "application_df.head(5)"
      ]
    },
    {
      "cell_type": "code",
      "execution_count": 25,
      "metadata": {
        "colab": {
          "base_uri": "https://localhost:8080/"
        },
        "id": "PxEmOZZ9pR8T",
        "outputId": "a7f34aa2-e4b0-40c4-c5cb-60be58ae2419"
      },
      "outputs": [
        {
          "output_type": "execute_result",
          "data": {
            "text/plain": [
              "Index(['NAME', 'APPLICATION_TYPE', 'AFFILIATION', 'CLASSIFICATION', 'USE_CASE',\n",
              "       'ORGANIZATION', 'INCOME_AMT', 'SPECIAL_CONSIDERATIONS', 'ASK_AMT',\n",
              "       'IS_SUCCESSFUL'],\n",
              "      dtype='object')"
            ]
          },
          "metadata": {},
          "execution_count": 25
        }
      ],
      "source": [
        "# Get columns to make\n",
        "application_df.columns"
      ]
    },
    {
      "cell_type": "code",
      "source": [
        "# Dropping \"ASK_AMT\" Column\n",
        "#application_df.drop(columns=['INCOME_AMT'], inplace=True)"
      ],
      "metadata": {
        "id": "S7jHt5LmgKbL"
      },
      "execution_count": 26,
      "outputs": []
    },
    {
      "cell_type": "code",
      "source": [],
      "metadata": {
        "id": "uEGtjNmoZuY3"
      },
      "execution_count": 26,
      "outputs": []
    },
    {
      "cell_type": "code",
      "execution_count": 27,
      "metadata": {
        "colab": {
          "base_uri": "https://localhost:8080/",
          "height": 574
        },
        "id": "dyjEt2XHpR8T",
        "outputId": "af529f71-5b41-464d-be91-a3bc21ee4bef"
      },
      "outputs": [
        {
          "output_type": "execute_result",
          "data": {
            "text/plain": [
              "         ASK_AMT  IS_SUCCESSFUL  NAME_ALPHA PHI SIGMA  \\\n",
              "0       8.517193              1                     0   \n",
              "1      11.595335              1                     0   \n",
              "2       8.517193              0                     0   \n",
              "3       8.808668              1                     0   \n",
              "4      11.867729              1                     0   \n",
              "...          ...            ...                   ...   \n",
              "34294   8.517193              0                     0   \n",
              "34295   8.517193              0                     0   \n",
              "34296   8.517193              0                     0   \n",
              "34297   8.517193              1                     0   \n",
              "34298  17.412828              0                     0   \n",
              "\n",
              "       NAME_AMATEUR ATHLETIC UNION OF THE UNITED STATES INC  \\\n",
              "0                                                      0      \n",
              "1                                                      0      \n",
              "2                                                      0      \n",
              "3                                                      0      \n",
              "4                                                      0      \n",
              "...                                                  ...      \n",
              "34294                                                  0      \n",
              "34295                                                  0      \n",
              "34296                                                  0      \n",
              "34297                                                  0      \n",
              "34298                                                  0      \n",
              "\n",
              "       NAME_AMERICAN ASSOCIATION OF UNIVERSITY WOMEN  \\\n",
              "0                                                  0   \n",
              "1                                                  0   \n",
              "2                                                  0   \n",
              "3                                                  0   \n",
              "4                                                  0   \n",
              "...                                              ...   \n",
              "34294                                              0   \n",
              "34295                                              0   \n",
              "34296                                              0   \n",
              "34297                                              0   \n",
              "34298                                              0   \n",
              "\n",
              "       NAME_CIVITAN INTERNATIONAL  NAME_DEMOLAY INTERNATIONAL  \\\n",
              "0                               0                           0   \n",
              "1                               0                           0   \n",
              "2                               0                           0   \n",
              "3                               0                           0   \n",
              "4                               0                           0   \n",
              "...                           ...                         ...   \n",
              "34294                           0                           0   \n",
              "34295                           0                           0   \n",
              "34296                           0                           0   \n",
              "34297                           0                           0   \n",
              "34298                           0                           0   \n",
              "\n",
              "       NAME_FARMERS EDUCATIONAL AND COOPERATIVE UNION OF AMERICA  \\\n",
              "0                                                      0           \n",
              "1                                                      0           \n",
              "2                                                      0           \n",
              "3                                                      0           \n",
              "4                                                      0           \n",
              "...                                                  ...           \n",
              "34294                                                  0           \n",
              "34295                                                  0           \n",
              "34296                                                  0           \n",
              "34297                                                  0           \n",
              "34298                                                  0           \n",
              "\n",
              "       NAME_HABITAT FOR HUMANITY INTERNATIONAL INC  \\\n",
              "0                                                0   \n",
              "1                                                0   \n",
              "2                                                0   \n",
              "3                                                0   \n",
              "4                                                0   \n",
              "...                                            ...   \n",
              "34294                                            0   \n",
              "34295                                            0   \n",
              "34296                                            0   \n",
              "34297                                            0   \n",
              "34298                                            0   \n",
              "\n",
              "       NAME_HONOR SOCIETY OF PHI KAPPA PHI  ...  USE_CASE_Heathcare  \\\n",
              "0                                        0  ...                   0   \n",
              "1                                        0  ...                   0   \n",
              "2                                        0  ...                   0   \n",
              "3                                        0  ...                   0   \n",
              "4                                        0  ...                   1   \n",
              "...                                    ...  ...                 ...   \n",
              "34294                                    0  ...                   0   \n",
              "34295                                    0  ...                   0   \n",
              "34296                                    0  ...                   0   \n",
              "34297                                    0  ...                   0   \n",
              "34298                                    0  ...                   0   \n",
              "\n",
              "       USE_CASE_Other  USE_CASE_Preservation  USE_CASE_ProductDev  \\\n",
              "0                   0                      0                    1   \n",
              "1                   0                      1                    0   \n",
              "2                   0                      0                    1   \n",
              "3                   0                      1                    0   \n",
              "4                   0                      0                    0   \n",
              "...               ...                    ...                  ...   \n",
              "34294               0                      0                    1   \n",
              "34295               0                      0                    1   \n",
              "34296               0                      1                    0   \n",
              "34297               0                      0                    1   \n",
              "34298               0                      1                    0   \n",
              "\n",
              "       ORGANIZATION_Association  ORGANIZATION_Co-operative  \\\n",
              "0                             1                          0   \n",
              "1                             0                          1   \n",
              "2                             1                          0   \n",
              "3                             0                          0   \n",
              "4                             0                          0   \n",
              "...                         ...                        ...   \n",
              "34294                         1                          0   \n",
              "34295                         1                          0   \n",
              "34296                         1                          0   \n",
              "34297                         1                          0   \n",
              "34298                         0                          1   \n",
              "\n",
              "       ORGANIZATION_Corporation  ORGANIZATION_Trust  SPECIAL_CONSIDERATIONS_N  \\\n",
              "0                             0                   0                         1   \n",
              "1                             0                   0                         1   \n",
              "2                             0                   0                         1   \n",
              "3                             0                   1                         1   \n",
              "4                             0                   1                         1   \n",
              "...                         ...                 ...                       ...   \n",
              "34294                         0                   0                         1   \n",
              "34295                         0                   0                         1   \n",
              "34296                         0                   0                         1   \n",
              "34297                         0                   0                         1   \n",
              "34298                         0                   0                         1   \n",
              "\n",
              "       SPECIAL_CONSIDERATIONS_Y  \n",
              "0                             0  \n",
              "1                             0  \n",
              "2                             0  \n",
              "3                             0  \n",
              "4                             0  \n",
              "...                         ...  \n",
              "34294                         0  \n",
              "34295                         0  \n",
              "34296                         0  \n",
              "34297                         0  \n",
              "34298                         0  \n",
              "\n",
              "[34299 rows x 71 columns]"
            ],
            "text/html": [
              "\n",
              "  <div id=\"df-2fc0eaad-2cd0-424e-ac2c-5b2d0b1b8c52\">\n",
              "    <div class=\"colab-df-container\">\n",
              "      <div>\n",
              "<style scoped>\n",
              "    .dataframe tbody tr th:only-of-type {\n",
              "        vertical-align: middle;\n",
              "    }\n",
              "\n",
              "    .dataframe tbody tr th {\n",
              "        vertical-align: top;\n",
              "    }\n",
              "\n",
              "    .dataframe thead th {\n",
              "        text-align: right;\n",
              "    }\n",
              "</style>\n",
              "<table border=\"1\" class=\"dataframe\">\n",
              "  <thead>\n",
              "    <tr style=\"text-align: right;\">\n",
              "      <th></th>\n",
              "      <th>ASK_AMT</th>\n",
              "      <th>IS_SUCCESSFUL</th>\n",
              "      <th>NAME_ALPHA PHI SIGMA</th>\n",
              "      <th>NAME_AMATEUR ATHLETIC UNION OF THE UNITED STATES INC</th>\n",
              "      <th>NAME_AMERICAN ASSOCIATION OF UNIVERSITY WOMEN</th>\n",
              "      <th>NAME_CIVITAN INTERNATIONAL</th>\n",
              "      <th>NAME_DEMOLAY INTERNATIONAL</th>\n",
              "      <th>NAME_FARMERS EDUCATIONAL AND COOPERATIVE UNION OF AMERICA</th>\n",
              "      <th>NAME_HABITAT FOR HUMANITY INTERNATIONAL INC</th>\n",
              "      <th>NAME_HONOR SOCIETY OF PHI KAPPA PHI</th>\n",
              "      <th>...</th>\n",
              "      <th>USE_CASE_Heathcare</th>\n",
              "      <th>USE_CASE_Other</th>\n",
              "      <th>USE_CASE_Preservation</th>\n",
              "      <th>USE_CASE_ProductDev</th>\n",
              "      <th>ORGANIZATION_Association</th>\n",
              "      <th>ORGANIZATION_Co-operative</th>\n",
              "      <th>ORGANIZATION_Corporation</th>\n",
              "      <th>ORGANIZATION_Trust</th>\n",
              "      <th>SPECIAL_CONSIDERATIONS_N</th>\n",
              "      <th>SPECIAL_CONSIDERATIONS_Y</th>\n",
              "    </tr>\n",
              "  </thead>\n",
              "  <tbody>\n",
              "    <tr>\n",
              "      <th>0</th>\n",
              "      <td>8.517193</td>\n",
              "      <td>1</td>\n",
              "      <td>0</td>\n",
              "      <td>0</td>\n",
              "      <td>0</td>\n",
              "      <td>0</td>\n",
              "      <td>0</td>\n",
              "      <td>0</td>\n",
              "      <td>0</td>\n",
              "      <td>0</td>\n",
              "      <td>...</td>\n",
              "      <td>0</td>\n",
              "      <td>0</td>\n",
              "      <td>0</td>\n",
              "      <td>1</td>\n",
              "      <td>1</td>\n",
              "      <td>0</td>\n",
              "      <td>0</td>\n",
              "      <td>0</td>\n",
              "      <td>1</td>\n",
              "      <td>0</td>\n",
              "    </tr>\n",
              "    <tr>\n",
              "      <th>1</th>\n",
              "      <td>11.595335</td>\n",
              "      <td>1</td>\n",
              "      <td>0</td>\n",
              "      <td>0</td>\n",
              "      <td>0</td>\n",
              "      <td>0</td>\n",
              "      <td>0</td>\n",
              "      <td>0</td>\n",
              "      <td>0</td>\n",
              "      <td>0</td>\n",
              "      <td>...</td>\n",
              "      <td>0</td>\n",
              "      <td>0</td>\n",
              "      <td>1</td>\n",
              "      <td>0</td>\n",
              "      <td>0</td>\n",
              "      <td>1</td>\n",
              "      <td>0</td>\n",
              "      <td>0</td>\n",
              "      <td>1</td>\n",
              "      <td>0</td>\n",
              "    </tr>\n",
              "    <tr>\n",
              "      <th>2</th>\n",
              "      <td>8.517193</td>\n",
              "      <td>0</td>\n",
              "      <td>0</td>\n",
              "      <td>0</td>\n",
              "      <td>0</td>\n",
              "      <td>0</td>\n",
              "      <td>0</td>\n",
              "      <td>0</td>\n",
              "      <td>0</td>\n",
              "      <td>0</td>\n",
              "      <td>...</td>\n",
              "      <td>0</td>\n",
              "      <td>0</td>\n",
              "      <td>0</td>\n",
              "      <td>1</td>\n",
              "      <td>1</td>\n",
              "      <td>0</td>\n",
              "      <td>0</td>\n",
              "      <td>0</td>\n",
              "      <td>1</td>\n",
              "      <td>0</td>\n",
              "    </tr>\n",
              "    <tr>\n",
              "      <th>3</th>\n",
              "      <td>8.808668</td>\n",
              "      <td>1</td>\n",
              "      <td>0</td>\n",
              "      <td>0</td>\n",
              "      <td>0</td>\n",
              "      <td>0</td>\n",
              "      <td>0</td>\n",
              "      <td>0</td>\n",
              "      <td>0</td>\n",
              "      <td>0</td>\n",
              "      <td>...</td>\n",
              "      <td>0</td>\n",
              "      <td>0</td>\n",
              "      <td>1</td>\n",
              "      <td>0</td>\n",
              "      <td>0</td>\n",
              "      <td>0</td>\n",
              "      <td>0</td>\n",
              "      <td>1</td>\n",
              "      <td>1</td>\n",
              "      <td>0</td>\n",
              "    </tr>\n",
              "    <tr>\n",
              "      <th>4</th>\n",
              "      <td>11.867729</td>\n",
              "      <td>1</td>\n",
              "      <td>0</td>\n",
              "      <td>0</td>\n",
              "      <td>0</td>\n",
              "      <td>0</td>\n",
              "      <td>0</td>\n",
              "      <td>0</td>\n",
              "      <td>0</td>\n",
              "      <td>0</td>\n",
              "      <td>...</td>\n",
              "      <td>1</td>\n",
              "      <td>0</td>\n",
              "      <td>0</td>\n",
              "      <td>0</td>\n",
              "      <td>0</td>\n",
              "      <td>0</td>\n",
              "      <td>0</td>\n",
              "      <td>1</td>\n",
              "      <td>1</td>\n",
              "      <td>0</td>\n",
              "    </tr>\n",
              "    <tr>\n",
              "      <th>...</th>\n",
              "      <td>...</td>\n",
              "      <td>...</td>\n",
              "      <td>...</td>\n",
              "      <td>...</td>\n",
              "      <td>...</td>\n",
              "      <td>...</td>\n",
              "      <td>...</td>\n",
              "      <td>...</td>\n",
              "      <td>...</td>\n",
              "      <td>...</td>\n",
              "      <td>...</td>\n",
              "      <td>...</td>\n",
              "      <td>...</td>\n",
              "      <td>...</td>\n",
              "      <td>...</td>\n",
              "      <td>...</td>\n",
              "      <td>...</td>\n",
              "      <td>...</td>\n",
              "      <td>...</td>\n",
              "      <td>...</td>\n",
              "      <td>...</td>\n",
              "    </tr>\n",
              "    <tr>\n",
              "      <th>34294</th>\n",
              "      <td>8.517193</td>\n",
              "      <td>0</td>\n",
              "      <td>0</td>\n",
              "      <td>0</td>\n",
              "      <td>0</td>\n",
              "      <td>0</td>\n",
              "      <td>0</td>\n",
              "      <td>0</td>\n",
              "      <td>0</td>\n",
              "      <td>0</td>\n",
              "      <td>...</td>\n",
              "      <td>0</td>\n",
              "      <td>0</td>\n",
              "      <td>0</td>\n",
              "      <td>1</td>\n",
              "      <td>1</td>\n",
              "      <td>0</td>\n",
              "      <td>0</td>\n",
              "      <td>0</td>\n",
              "      <td>1</td>\n",
              "      <td>0</td>\n",
              "    </tr>\n",
              "    <tr>\n",
              "      <th>34295</th>\n",
              "      <td>8.517193</td>\n",
              "      <td>0</td>\n",
              "      <td>0</td>\n",
              "      <td>0</td>\n",
              "      <td>0</td>\n",
              "      <td>0</td>\n",
              "      <td>0</td>\n",
              "      <td>0</td>\n",
              "      <td>0</td>\n",
              "      <td>0</td>\n",
              "      <td>...</td>\n",
              "      <td>0</td>\n",
              "      <td>0</td>\n",
              "      <td>0</td>\n",
              "      <td>1</td>\n",
              "      <td>1</td>\n",
              "      <td>0</td>\n",
              "      <td>0</td>\n",
              "      <td>0</td>\n",
              "      <td>1</td>\n",
              "      <td>0</td>\n",
              "    </tr>\n",
              "    <tr>\n",
              "      <th>34296</th>\n",
              "      <td>8.517193</td>\n",
              "      <td>0</td>\n",
              "      <td>0</td>\n",
              "      <td>0</td>\n",
              "      <td>0</td>\n",
              "      <td>0</td>\n",
              "      <td>0</td>\n",
              "      <td>0</td>\n",
              "      <td>0</td>\n",
              "      <td>0</td>\n",
              "      <td>...</td>\n",
              "      <td>0</td>\n",
              "      <td>0</td>\n",
              "      <td>1</td>\n",
              "      <td>0</td>\n",
              "      <td>1</td>\n",
              "      <td>0</td>\n",
              "      <td>0</td>\n",
              "      <td>0</td>\n",
              "      <td>1</td>\n",
              "      <td>0</td>\n",
              "    </tr>\n",
              "    <tr>\n",
              "      <th>34297</th>\n",
              "      <td>8.517193</td>\n",
              "      <td>1</td>\n",
              "      <td>0</td>\n",
              "      <td>0</td>\n",
              "      <td>0</td>\n",
              "      <td>0</td>\n",
              "      <td>0</td>\n",
              "      <td>0</td>\n",
              "      <td>0</td>\n",
              "      <td>0</td>\n",
              "      <td>...</td>\n",
              "      <td>0</td>\n",
              "      <td>0</td>\n",
              "      <td>0</td>\n",
              "      <td>1</td>\n",
              "      <td>1</td>\n",
              "      <td>0</td>\n",
              "      <td>0</td>\n",
              "      <td>0</td>\n",
              "      <td>1</td>\n",
              "      <td>0</td>\n",
              "    </tr>\n",
              "    <tr>\n",
              "      <th>34298</th>\n",
              "      <td>17.412828</td>\n",
              "      <td>0</td>\n",
              "      <td>0</td>\n",
              "      <td>0</td>\n",
              "      <td>0</td>\n",
              "      <td>0</td>\n",
              "      <td>0</td>\n",
              "      <td>0</td>\n",
              "      <td>0</td>\n",
              "      <td>0</td>\n",
              "      <td>...</td>\n",
              "      <td>0</td>\n",
              "      <td>0</td>\n",
              "      <td>1</td>\n",
              "      <td>0</td>\n",
              "      <td>0</td>\n",
              "      <td>1</td>\n",
              "      <td>0</td>\n",
              "      <td>0</td>\n",
              "      <td>1</td>\n",
              "      <td>0</td>\n",
              "    </tr>\n",
              "  </tbody>\n",
              "</table>\n",
              "<p>34299 rows × 71 columns</p>\n",
              "</div>\n",
              "      <button class=\"colab-df-convert\" onclick=\"convertToInteractive('df-2fc0eaad-2cd0-424e-ac2c-5b2d0b1b8c52')\"\n",
              "              title=\"Convert this dataframe to an interactive table.\"\n",
              "              style=\"display:none;\">\n",
              "        \n",
              "  <svg xmlns=\"http://www.w3.org/2000/svg\" height=\"24px\"viewBox=\"0 0 24 24\"\n",
              "       width=\"24px\">\n",
              "    <path d=\"M0 0h24v24H0V0z\" fill=\"none\"/>\n",
              "    <path d=\"M18.56 5.44l.94 2.06.94-2.06 2.06-.94-2.06-.94-.94-2.06-.94 2.06-2.06.94zm-11 1L8.5 8.5l.94-2.06 2.06-.94-2.06-.94L8.5 2.5l-.94 2.06-2.06.94zm10 10l.94 2.06.94-2.06 2.06-.94-2.06-.94-.94-2.06-.94 2.06-2.06.94z\"/><path d=\"M17.41 7.96l-1.37-1.37c-.4-.4-.92-.59-1.43-.59-.52 0-1.04.2-1.43.59L10.3 9.45l-7.72 7.72c-.78.78-.78 2.05 0 2.83L4 21.41c.39.39.9.59 1.41.59.51 0 1.02-.2 1.41-.59l7.78-7.78 2.81-2.81c.8-.78.8-2.07 0-2.86zM5.41 20L4 18.59l7.72-7.72 1.47 1.35L5.41 20z\"/>\n",
              "  </svg>\n",
              "      </button>\n",
              "      \n",
              "  <style>\n",
              "    .colab-df-container {\n",
              "      display:flex;\n",
              "      flex-wrap:wrap;\n",
              "      gap: 12px;\n",
              "    }\n",
              "\n",
              "    .colab-df-convert {\n",
              "      background-color: #E8F0FE;\n",
              "      border: none;\n",
              "      border-radius: 50%;\n",
              "      cursor: pointer;\n",
              "      display: none;\n",
              "      fill: #1967D2;\n",
              "      height: 32px;\n",
              "      padding: 0 0 0 0;\n",
              "      width: 32px;\n",
              "    }\n",
              "\n",
              "    .colab-df-convert:hover {\n",
              "      background-color: #E2EBFA;\n",
              "      box-shadow: 0px 1px 2px rgba(60, 64, 67, 0.3), 0px 1px 3px 1px rgba(60, 64, 67, 0.15);\n",
              "      fill: #174EA6;\n",
              "    }\n",
              "\n",
              "    [theme=dark] .colab-df-convert {\n",
              "      background-color: #3B4455;\n",
              "      fill: #D2E3FC;\n",
              "    }\n",
              "\n",
              "    [theme=dark] .colab-df-convert:hover {\n",
              "      background-color: #434B5C;\n",
              "      box-shadow: 0px 1px 3px 1px rgba(0, 0, 0, 0.15);\n",
              "      filter: drop-shadow(0px 1px 2px rgba(0, 0, 0, 0.3));\n",
              "      fill: #FFFFFF;\n",
              "    }\n",
              "  </style>\n",
              "\n",
              "      <script>\n",
              "        const buttonEl =\n",
              "          document.querySelector('#df-2fc0eaad-2cd0-424e-ac2c-5b2d0b1b8c52 button.colab-df-convert');\n",
              "        buttonEl.style.display =\n",
              "          google.colab.kernel.accessAllowed ? 'block' : 'none';\n",
              "\n",
              "        async function convertToInteractive(key) {\n",
              "          const element = document.querySelector('#df-2fc0eaad-2cd0-424e-ac2c-5b2d0b1b8c52');\n",
              "          const dataTable =\n",
              "            await google.colab.kernel.invokeFunction('convertToInteractive',\n",
              "                                                     [key], {});\n",
              "          if (!dataTable) return;\n",
              "\n",
              "          const docLinkHtml = 'Like what you see? Visit the ' +\n",
              "            '<a target=\"_blank\" href=https://colab.research.google.com/notebooks/data_table.ipynb>data table notebook</a>'\n",
              "            + ' to learn more about interactive tables.';\n",
              "          element.innerHTML = '';\n",
              "          dataTable['output_type'] = 'display_data';\n",
              "          await google.colab.output.renderOutput(dataTable, element);\n",
              "          const docLink = document.createElement('div');\n",
              "          docLink.innerHTML = docLinkHtml;\n",
              "          element.appendChild(docLink);\n",
              "        }\n",
              "      </script>\n",
              "    </div>\n",
              "  </div>\n",
              "  "
            ]
          },
          "metadata": {},
          "execution_count": 27
        }
      ],
      "source": [
        "# Convert categorical data to numeric with `pd.get_dummies`\n",
        "# Make list of columns to numeric-ify\n",
        "cat_columns = ['NAME', 'INCOME_AMT', 'APPLICATION_TYPE', 'AFFILIATION', 'CLASSIFICATION', 'USE_CASE', 'ORGANIZATION','SPECIAL_CONSIDERATIONS']\n",
        "\n",
        "# Use get_dummies\n",
        "application_dummies_df = pd.get_dummies(application_df, columns=cat_columns)\n",
        "application_dummies_df"
      ]
    },
    {
      "cell_type": "markdown",
      "metadata": {
        "id": "PApIQ0H2pR8T"
      },
      "source": [
        "### Split into features and target arrays"
      ]
    },
    {
      "cell_type": "code",
      "execution_count": 28,
      "metadata": {
        "id": "t-bVDIYFpR8T"
      },
      "outputs": [],
      "source": [
        "# Split our preprocessed data into our features and target arrays\n",
        "# The target array, y, will be the successfull column\n",
        "y = application_dummies_df[\"IS_SUCCESSFUL\"]\n",
        "X = application_dummies_df.drop(columns=['IS_SUCCESSFUL']).values\n",
        "X\n",
        "# Split the preprocessed data into a training and testing dataset\n",
        "from sklearn.model_selection import train_test_split\n",
        "X_train, X_test, y_train, y_test = train_test_split(X, y)\n"
      ]
    },
    {
      "cell_type": "code",
      "execution_count": 29,
      "metadata": {
        "id": "Wn7CYvwipR8T"
      },
      "outputs": [],
      "source": [
        "# Create a StandardScaler instances\n",
        "scaler = StandardScaler()\n",
        "\n",
        "# Fit the StandardScaler\n",
        "X_scaler = scaler.fit(X_train)\n",
        "\n",
        "# Scale the data\n",
        "X_train_scaled = X_scaler.transform(X_train)\n",
        "X_test_scaled = X_scaler.transform(X_test)"
      ]
    },
    {
      "cell_type": "code",
      "source": [
        "X_train_scaled"
      ],
      "metadata": {
        "colab": {
          "base_uri": "https://localhost:8080/"
        },
        "id": "jR9LCUNaqgww",
        "outputId": "0d78b510-1657-437c-f21a-886738aad46e"
      },
      "execution_count": 30,
      "outputs": [
        {
          "output_type": "execute_result",
          "data": {
            "text/plain": [
              "array([[-0.47682949, -0.09643059,  8.99575271, ...,  0.67464212,\n",
              "         0.02646178, -0.02646178],\n",
              "       [ 2.97283023, -0.09643059, -0.11116357, ...,  0.67464212,\n",
              "         0.02646178, -0.02646178],\n",
              "       [ 2.53879581, -0.09643059, -0.11116357, ..., -1.48226738,\n",
              "         0.02646178, -0.02646178],\n",
              "       ...,\n",
              "       [ 2.03910847, -0.09643059, -0.11116357, ...,  0.67464212,\n",
              "         0.02646178, -0.02646178],\n",
              "       [-0.47682949, -0.09643059, -0.11116357, ...,  0.67464212,\n",
              "         0.02646178, -0.02646178],\n",
              "       [-0.47682949, -0.09643059, -0.11116357, ...,  0.67464212,\n",
              "         0.02646178, -0.02646178]])"
            ]
          },
          "metadata": {},
          "execution_count": 30
        }
      ]
    },
    {
      "cell_type": "markdown",
      "metadata": {
        "id": "wEFpikxTpR8U"
      },
      "source": [
        "## Compile, Train and Evaluate the Model"
      ]
    },
    {
      "cell_type": "code",
      "execution_count": 31,
      "metadata": {
        "colab": {
          "base_uri": "https://localhost:8080/"
        },
        "id": "-MPUGxIGpR8U",
        "outputId": "ba4221a8-3067-4416-cd65-874c28876cdc"
      },
      "outputs": [
        {
          "output_type": "stream",
          "name": "stdout",
          "text": [
            "Model: \"sequential\"\n",
            "_________________________________________________________________\n",
            " Layer (type)                Output Shape              Param #   \n",
            "=================================================================\n",
            " dense (Dense)               (None, 30)                2130      \n",
            "                                                                 \n",
            " dense_1 (Dense)             (None, 10)                310       \n",
            "                                                                 \n",
            " dense_2 (Dense)             (None, 1)                 11        \n",
            "                                                                 \n",
            "=================================================================\n",
            "Total params: 2,451\n",
            "Trainable params: 2,451\n",
            "Non-trainable params: 0\n",
            "_________________________________________________________________\n"
          ]
        }
      ],
      "source": [
        "# Define the model - deep neural net, i.e., the number of input features and hidden nodes for each layer.\n",
        "number_input_features = len(X_train[0])\n",
        "hidden_nodes_layer1 =  30\n",
        "hidden_nodes_layer2 = 10\n",
        "\n",
        "\n",
        "nn = tf.keras.models.Sequential()\n",
        "\n",
        "# First hidden layer\n",
        "nn.add(\n",
        "    tf.keras.layers.Dense(units=hidden_nodes_layer1, input_dim=number_input_features, activation=\"relu\")\n",
        ")\n",
        "\n",
        "# Second hidden layer\n",
        "nn.add(tf.keras.layers.Dense(units=hidden_nodes_layer2, activation=\"relu\"))\n",
        "\n",
        "# Output layer\n",
        "nn.add(tf.keras.layers.Dense(units=1, activation=\"sigmoid\"))\n",
        "\n",
        "# Check the structure of the model\n",
        "nn.summary()"
      ]
    },
    {
      "cell_type": "code",
      "execution_count": 32,
      "metadata": {
        "id": "sa1ISj6VpR8U"
      },
      "outputs": [],
      "source": [
        "# Compile the model\n",
        "nn.compile(loss=\"binary_crossentropy\", optimizer=\"adam\", metrics=[\"accuracy\"])"
      ]
    },
    {
      "cell_type": "code",
      "execution_count": 33,
      "metadata": {
        "colab": {
          "base_uri": "https://localhost:8080/"
        },
        "id": "USBcqPu0pR8U",
        "outputId": "4026127d-7165-40b6-e1f0-87cdd16d91ac"
      },
      "outputs": [
        {
          "output_type": "stream",
          "name": "stdout",
          "text": [
            "Epoch 1/30\n",
            "804/804 [==============================] - 2s 2ms/step - loss: 0.5412 - accuracy: 0.7252\n",
            "Epoch 2/30\n",
            "804/804 [==============================] - 1s 2ms/step - loss: 0.5005 - accuracy: 0.7532\n",
            "Epoch 3/30\n",
            "804/804 [==============================] - 2s 2ms/step - loss: 0.4929 - accuracy: 0.7540\n",
            "Epoch 4/30\n",
            "804/804 [==============================] - 1s 2ms/step - loss: 0.4909 - accuracy: 0.7571\n",
            "Epoch 5/30\n",
            "804/804 [==============================] - 1s 2ms/step - loss: 0.4890 - accuracy: 0.7575\n",
            "Epoch 6/30\n",
            "804/804 [==============================] - 1s 2ms/step - loss: 0.4882 - accuracy: 0.7595\n",
            "Epoch 7/30\n",
            "804/804 [==============================] - 2s 2ms/step - loss: 0.4868 - accuracy: 0.7589\n",
            "Epoch 8/30\n",
            "804/804 [==============================] - 2s 2ms/step - loss: 0.4862 - accuracy: 0.7589\n",
            "Epoch 9/30\n",
            "804/804 [==============================] - 1s 2ms/step - loss: 0.4861 - accuracy: 0.7582\n",
            "Epoch 10/30\n",
            "804/804 [==============================] - 1s 2ms/step - loss: 0.4853 - accuracy: 0.7595\n",
            "Epoch 11/30\n",
            "804/804 [==============================] - 1s 2ms/step - loss: 0.4849 - accuracy: 0.7609\n",
            "Epoch 12/30\n",
            "804/804 [==============================] - 1s 2ms/step - loss: 0.4843 - accuracy: 0.7600\n",
            "Epoch 13/30\n",
            "804/804 [==============================] - 1s 2ms/step - loss: 0.4846 - accuracy: 0.7597\n",
            "Epoch 14/30\n",
            "804/804 [==============================] - 1s 2ms/step - loss: 0.4840 - accuracy: 0.7605\n",
            "Epoch 15/30\n",
            "804/804 [==============================] - 1s 2ms/step - loss: 0.4835 - accuracy: 0.7605\n",
            "Epoch 16/30\n",
            "804/804 [==============================] - 3s 4ms/step - loss: 0.4836 - accuracy: 0.7593\n",
            "Epoch 17/30\n",
            "804/804 [==============================] - 1s 2ms/step - loss: 0.4830 - accuracy: 0.7601\n",
            "Epoch 18/30\n",
            "804/804 [==============================] - 1s 2ms/step - loss: 0.4828 - accuracy: 0.7594\n",
            "Epoch 19/30\n",
            "804/804 [==============================] - 1s 2ms/step - loss: 0.4828 - accuracy: 0.7600\n",
            "Epoch 20/30\n",
            "804/804 [==============================] - 1s 2ms/step - loss: 0.4827 - accuracy: 0.7600\n",
            "Epoch 21/30\n",
            "804/804 [==============================] - 1s 2ms/step - loss: 0.4821 - accuracy: 0.7611\n",
            "Epoch 22/30\n",
            "804/804 [==============================] - 1s 2ms/step - loss: 0.4813 - accuracy: 0.7606\n",
            "Epoch 23/30\n",
            "804/804 [==============================] - 1s 2ms/step - loss: 0.4820 - accuracy: 0.7588\n",
            "Epoch 24/30\n",
            "804/804 [==============================] - 2s 2ms/step - loss: 0.4818 - accuracy: 0.7618\n",
            "Epoch 25/30\n",
            "804/804 [==============================] - 2s 2ms/step - loss: 0.4816 - accuracy: 0.7606\n",
            "Epoch 26/30\n",
            "804/804 [==============================] - 1s 2ms/step - loss: 0.4818 - accuracy: 0.7602\n",
            "Epoch 27/30\n",
            "804/804 [==============================] - 1s 2ms/step - loss: 0.4808 - accuracy: 0.7616\n",
            "Epoch 28/30\n",
            "804/804 [==============================] - 1s 2ms/step - loss: 0.4812 - accuracy: 0.7609\n",
            "Epoch 29/30\n",
            "804/804 [==============================] - 1s 2ms/step - loss: 0.4808 - accuracy: 0.7604\n",
            "Epoch 30/30\n",
            "804/804 [==============================] - 1s 2ms/step - loss: 0.4806 - accuracy: 0.7622\n"
          ]
        }
      ],
      "source": [
        "# Train the model\n",
        "fit_model = nn.fit(X_train_scaled,y_train,epochs=30)"
      ]
    },
    {
      "cell_type": "code",
      "execution_count": 34,
      "metadata": {
        "colab": {
          "base_uri": "https://localhost:8080/"
        },
        "id": "n02h8-F8pR8U",
        "outputId": "46b51097-9a26-46b9-b996-2bbd019f7185"
      },
      "outputs": [
        {
          "output_type": "stream",
          "name": "stdout",
          "text": [
            "268/268 - 0s - loss: 0.4858 - accuracy: 0.7592 - 447ms/epoch - 2ms/step\n",
            "Loss: 0.48582902550697327, Accuracy: 0.7591836452484131\n"
          ]
        }
      ],
      "source": [
        "# Evaluate the model using the test data\n",
        "model_loss, model_accuracy = nn.evaluate(X_test_scaled,y_test,verbose=2)\n",
        "print(f\"Loss: {model_loss}, Accuracy: {model_accuracy}\")"
      ]
    },
    {
      "cell_type": "code",
      "execution_count": 35,
      "metadata": {
        "id": "xNIKdfrrpR8U"
      },
      "outputs": [],
      "source": [
        "# Export our model to HDF5 file\n",
        "nn.save(\"AlphabetSoupCharity_Optimization.h5\")"
      ]
    },
    {
      "cell_type": "code",
      "source": [],
      "metadata": {
        "id": "3KFj6SWxXzn6"
      },
      "execution_count": null,
      "outputs": []
    }
  ],
  "metadata": {
    "kernelspec": {
      "display_name": "Python 3.9.12 ('base')",
      "language": "python",
      "name": "python3"
    },
    "language_info": {
      "codemirror_mode": {
        "name": "ipython",
        "version": 3
      },
      "file_extension": ".py",
      "mimetype": "text/x-python",
      "name": "python",
      "nbconvert_exporter": "python",
      "pygments_lexer": "ipython3",
      "version": "3.9.12"
    },
    "vscode": {
      "interpreter": {
        "hash": "8ca3c2b93fec3a68989a8a35ad4ad37f554c7436255229aa8dbd97e50d16e03f"
      }
    },
    "colab": {
      "provenance": []
    }
  },
  "nbformat": 4,
  "nbformat_minor": 0
}